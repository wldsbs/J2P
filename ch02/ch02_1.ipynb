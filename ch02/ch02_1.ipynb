{
 "cells": [
  {
   "cell_type": "markdown",
   "metadata": {},
   "source": [
    "# 1. 숫자형"
   ]
  },
  {
   "cell_type": "markdown",
   "metadata": {},
   "source": [
    "### 정수형\n",
    "정수를 뜻하는 자료형  \n",
    "(양의 정수, 음의 정수, 0)"
   ]
  },
  {
   "cell_type": "code",
   "execution_count": 1,
   "metadata": {},
   "outputs": [],
   "source": [
    "a=123\n",
    "a=-178\n",
    "a=0"
   ]
  },
  {
   "cell_type": "markdown",
   "metadata": {},
   "source": [
    "### 실수형\n",
    "소수점이 포함된 숫자"
   ]
  },
  {
   "cell_type": "code",
   "execution_count": 2,
   "metadata": {},
   "outputs": [],
   "source": [
    "#일반적인 실수형 표현 방식 \n",
    "a=1.2\n",
    "a=-3.45\n",
    "\n",
    "#컴퓨터식 지수 표현 방식 \n",
    "a=4.24E10\n",
    "a=4.24e-10"
   ]
  },
  {
   "cell_type": "markdown",
   "metadata": {},
   "source": [
    "### 8진수와 16진수\n",
    "8진수는 0o 또는 0O로 시작\n",
    "16진수는 0x로 시작"
   ]
  },
  {
   "cell_type": "code",
   "execution_count": 3,
   "metadata": {},
   "outputs": [],
   "source": [
    "#8진수 \n",
    "a=0o177\n",
    "\n",
    "#16진수\n",
    "a=0x8ff"
   ]
  },
  {
   "cell_type": "markdown",
   "metadata": {},
   "source": [
    "### 연산자\n",
    "- 사칙연산   \n",
    "+, -, *, /\n",
    "- **연산자  \n",
    "x**y로 사용 시 x의 y제곱 값 반환\n",
    "- %연산자  \n",
    "나눗셈의 나머지 값을 반환\n",
    "- //연산자  \n",
    "나눗셈 후 몫 반환"
   ]
  }
 ],
 "metadata": {
  "kernelspec": {
   "display_name": "Python 3",
   "language": "python",
   "name": "python3"
  },
  "language_info": {
   "codemirror_mode": {
    "name": "ipython",
    "version": 3
   },
   "file_extension": ".py",
   "mimetype": "text/x-python",
   "name": "python",
   "nbconvert_exporter": "python",
   "pygments_lexer": "ipython3",
   "version": "3.7.3"
  }
 },
 "nbformat": 4,
 "nbformat_minor": 2
}
