{
 "cells": [
  {
   "cell_type": "markdown",
   "metadata": {},
   "source": [
    "# 2. 문자열 자료형"
   ]
  },
  {
   "cell_type": "markdown",
   "metadata": {},
   "source": [
    "### 이스케이프코드\n",
    "\\n : 문자열 안에서 줄바꿈 \n",
    "   \n",
    "\\t : 문자열 사이에 탭  \n",
    "  \n",
    "\\\\ : 문자\\를 그대로 표현할 때 사용  \n",
    "  \n",
    "\\' : 작은 따옴표(')를 그대로 표현할 때 사용  \n",
    "  \n",
    "\\\" : 큰 따옴표(\")를 그대로 표현할 때 사용  \n",
    "  \n",
    "\\r : 캐리지 리턴(줄 바꿈 문자, 현재 커서를 가장 앞으로 이동)  \n",
    "  \n",
    "\\f : 폼 피드(줄 바꿈 문자, 현재 커서를 다음 줄로 이동)  \n",
    "  \n",
    "\\a : 벨 소리(출력할 때 PC스피커에서 소리가 남)\n",
    "  \n",
    "\\b : 백 스페이스  \n",
    "  \n",
    "\\000 : 널문자  "
   ]
  },
  {
   "cell_type": "markdown",
   "metadata": {},
   "source": [
    "### 문자열 인덱싱과 슬라이싱\n",
    "#### 문자열 인덱싱  \n",
    "- a[번호] 를 이용하여 문자열 안의 특정한 값 뽑아내는 역할  \n",
    "- 번호는 0부터 시작하며 a[-1]과 같이 뒤에서부터 읽을 수도 있음  \n",
    "\n",
    "#### 문자열 슬라이싱  \n",
    "- a[시작번호:끝번호]과 같이 사용하며 시작번호와 끝번호는 생략 가능  \n",
    "- 시작번호부터 끝번호 앞 문자까지 출력  "
   ]
  },
  {
   "cell_type": "markdown",
   "metadata": {},
   "source": [
    "### 문자열 포매팅\n",
    "문자열 안에 어떤 값을 삽입하는 방법  "
   ]
  },
  {
   "cell_type": "code",
   "execution_count": 1,
   "metadata": {},
   "outputs": [
    {
     "data": {
      "text/plain": [
       "'I eat 3 apples.'"
      ]
     },
     "execution_count": 1,
     "metadata": {},
     "output_type": "execute_result"
    }
   ],
   "source": [
    "#숫자 바로 대입\n",
    "\"I eat %d apples.\"% 3\n",
    "#숫자를 넣고 싶은 곳에 %d를 넣고 문자열 포맷 코드로 따로 변수 처럼 전달"
   ]
  },
  {
   "cell_type": "code",
   "execution_count": 2,
   "metadata": {},
   "outputs": [
    {
     "data": {
      "text/plain": [
       "'I eat five apples.'"
      ]
     },
     "execution_count": 2,
     "metadata": {},
     "output_type": "execute_result"
    }
   ],
   "source": [
    "#문자열 바로 대입\n",
    "\"I eat %s apples.\" % \"five\"\n",
    "#문자를 넣고 싶은 곳에 %s를 미리 넣고 문자열 포맷 코드로 따로 변수 처럼 전달"
   ]
  },
  {
   "cell_type": "code",
   "execution_count": 3,
   "metadata": {},
   "outputs": [
    {
     "data": {
      "text/plain": [
       "'I like number 3'"
      ]
     },
     "execution_count": 3,
     "metadata": {},
     "output_type": "execute_result"
    }
   ],
   "source": [
    "#숫자 값을 나타내는 변수로 대입\n",
    "number=3\n",
    "\"I like number %d\" % number\n",
    "#문자열 포맷 코드에 변수를 넣어 전달 가능"
   ]
  },
  {
   "cell_type": "code",
   "execution_count": 4,
   "metadata": {},
   "outputs": [
    {
     "data": {
      "text/plain": [
       "'I ate 10 apples. so i was sick for 20 days.'"
      ]
     },
     "execution_count": 4,
     "metadata": {},
     "output_type": "execute_result"
    }
   ],
   "source": [
    "#2개 이상의 값 넣기\n",
    "number=10\n",
    "day=20\n",
    "\"I ate %d apples. so i was sick for %d days.\" % (number,day)\n",
    "#2개 이상의 변수를 넣고 싶으면 % 다음 괄호  안에 콤마로 구분하여 각각 전달"
   ]
  },
  {
   "cell_type": "markdown",
   "metadata": {},
   "source": [
    "### 문자열 포맷 코드\n",
    "%s : 문자열  \n",
    "  \n",
    "%c : 문자 1개  \n",
    "  \n",
    "%d : 정수 \n",
    "  \n",
    "%f : 부동소수  \n",
    "  \n",
    "%o : 8진수 \n",
    "  \n",
    "%x : 16진수  \n",
    "  \n",
    "%% : 문자%  "
   ]
  },
  {
   "cell_type": "markdown",
   "metadata": {},
   "source": [
    "### 문자열 관련 함수\n"
   ]
  },
  {
   "cell_type": "code",
   "execution_count": 5,
   "metadata": {},
   "outputs": [
    {
     "data": {
      "text/plain": [
       "2"
      ]
     },
     "execution_count": 5,
     "metadata": {},
     "output_type": "execute_result"
    }
   ],
   "source": [
    "#문자 개수 세기(count)\n",
    "a=\"hobby\"\n",
    "a.count('b')"
   ]
  },
  {
   "cell_type": "code",
   "execution_count": 6,
   "metadata": {},
   "outputs": [
    {
     "data": {
      "text/plain": [
       "0"
      ]
     },
     "execution_count": 6,
     "metadata": {},
     "output_type": "execute_result"
    }
   ],
   "source": [
    "#위치 알려주기(find)\n",
    "a=\"strawberry\"\n",
    "a.find('s')\n",
    "#찾는 문자/문자열이 처음으로 나온 위치 반환\n",
    "#만약 찾는 문자/문자열이 존재하지 않으면 -1 반환  "
   ]
  },
  {
   "cell_type": "code",
   "execution_count": 7,
   "metadata": {},
   "outputs": [
    {
     "data": {
      "text/plain": [
       "8"
      ]
     },
     "execution_count": 7,
     "metadata": {},
     "output_type": "execute_result"
    }
   ],
   "source": [
    "#위치 알려주기(index)\n",
    "a=\"Life is too short\"\n",
    "a.index('t')\n",
    "#찾는 문자가 맨 처음으로 나온 위치 반환\n",
    "#만약 찾는 문자/문자열이 존재하지 않으면 오류 발생시킴 "
   ]
  },
  {
   "cell_type": "code",
   "execution_count": 8,
   "metadata": {},
   "outputs": [
    {
     "data": {
      "text/plain": [
       "'a,b,c,d'"
      ]
     },
     "execution_count": 8,
     "metadata": {},
     "output_type": "execute_result"
    }
   ],
   "source": [
    "#문자열 삽입(join)\n",
    "\",\".join('abcd')\n",
    "#문자열의 각각 문자 사이에 ','삽입\n",
    "#join함수는 문자열뿐만아니라 리스트, 튜플도 입력으로 사용가능 "
   ]
  },
  {
   "cell_type": "code",
   "execution_count": 9,
   "metadata": {},
   "outputs": [
    {
     "data": {
      "text/plain": [
       "'HI'"
      ]
     },
     "execution_count": 9,
     "metadata": {},
     "output_type": "execute_result"
    }
   ],
   "source": [
    "#소문자를 대문자로 바꾸기(upper)\n",
    "a=\"hi\"\n",
    "a.upper()"
   ]
  },
  {
   "cell_type": "code",
   "execution_count": 10,
   "metadata": {},
   "outputs": [
    {
     "data": {
      "text/plain": [
       "'hi'"
      ]
     },
     "execution_count": 10,
     "metadata": {},
     "output_type": "execute_result"
    }
   ],
   "source": [
    "#대문자를 소문자로 바꾸기(lower)\n",
    "a=\"HI\"\n",
    "a.lower()"
   ]
  },
  {
   "cell_type": "code",
   "execution_count": 11,
   "metadata": {},
   "outputs": [
    {
     "data": {
      "text/plain": [
       "'hi  '"
      ]
     },
     "execution_count": 11,
     "metadata": {},
     "output_type": "execute_result"
    }
   ],
   "source": [
    "#왼쪽 공백 지우기(lstrip)\n",
    "a=\"  hi  \"\n",
    "a.lstrip()"
   ]
  },
  {
   "cell_type": "code",
   "execution_count": 12,
   "metadata": {},
   "outputs": [
    {
     "data": {
      "text/plain": [
       "'  hi'"
      ]
     },
     "execution_count": 12,
     "metadata": {},
     "output_type": "execute_result"
    }
   ],
   "source": [
    "#오른쪽 공백 지우기(rstrip)\n",
    "a=\"  hi  \"\n",
    "a.rstrip()"
   ]
  },
  {
   "cell_type": "code",
   "execution_count": 13,
   "metadata": {},
   "outputs": [
    {
     "data": {
      "text/plain": [
       "'hi'"
      ]
     },
     "execution_count": 13,
     "metadata": {},
     "output_type": "execute_result"
    }
   ],
   "source": [
    "#양쪽 공백 지우기(strip)\n",
    "a=\" hi \"\n",
    "a.strip()"
   ]
  },
  {
   "cell_type": "code",
   "execution_count": 14,
   "metadata": {},
   "outputs": [
    {
     "data": {
      "text/plain": [
       "'Your leg is too short'"
      ]
     },
     "execution_count": 14,
     "metadata": {},
     "output_type": "execute_result"
    }
   ],
   "source": [
    "#문자열 바꾸기(replace)\n",
    "a=\"Life is too short\"\n",
    "a.replace(\"Life\",\"Your leg\")\n",
    "#replace(바뀔 문자열, 바꿀 문자열)로 사용하여 문자열 치환"
   ]
  },
  {
   "cell_type": "code",
   "execution_count": 15,
   "metadata": {},
   "outputs": [
    {
     "name": "stdout",
     "output_type": "stream",
     "text": [
      "['Life', 'is', 'too', 'short']\n",
      "['a', 'b', 'c', 'd']\n"
     ]
    }
   ],
   "source": [
    "#문자열 나누기(split)\n",
    "a=\"Life is too short\"\n",
    "print(a.split())\n",
    "#괄호안에 아무값도 넣지 않으면 공백을 기준으로 문자열 나눔 \n",
    "b=\"a:b:c:d\"\n",
    "print(b.split(':'))\n",
    "#괄호 안에 특정 값이 있을 경우 그 값을 구분자로 해서 문자열 나눔 "
   ]
  }
 ],
 "metadata": {
  "kernelspec": {
   "display_name": "Python 3",
   "language": "python",
   "name": "python3"
  },
  "language_info": {
   "codemirror_mode": {
    "name": "ipython",
    "version": 3
   },
   "file_extension": ".py",
   "mimetype": "text/x-python",
   "name": "python",
   "nbconvert_exporter": "python",
   "pygments_lexer": "ipython3",
   "version": "3.7.3"
  }
 },
 "nbformat": 4,
 "nbformat_minor": 2
}
