{
 "cells": [
  {
   "cell_type": "markdown",
   "metadata": {},
   "source": [
    "# 연습문제"
   ]
  },
  {
   "cell_type": "code",
   "execution_count": 3,
   "metadata": {},
   "outputs": [
    {
     "name": "stdout",
     "output_type": "stream",
     "text": [
      "숫자를 입력하세요 : 7\n",
      "입력한 수는 홀수입니다.\n"
     ]
    }
   ],
   "source": [
    "#Q1.\n",
    "def is_odd(num):\n",
    "    if num%2==0:\n",
    "        print(\"입력한 수는 짝수입니다.\")\n",
    "    else:\n",
    "        print(\"입력한 수는 홀수입니다.\")\n",
    "\n",
    "user=int(input(\"숫자를 입력하세요 : \"))\n",
    "is_odd(user)"
   ]
  },
  {
   "cell_type": "code",
   "execution_count": 4,
   "metadata": {},
   "outputs": [
    {
     "name": "stdout",
     "output_type": "stream",
     "text": [
      "50.0\n"
     ]
    }
   ],
   "source": [
    "#Q2.\n",
    "def avg(*args):\n",
    "    total=0\n",
    "    result=0\n",
    "    for i in args:\n",
    "        total+=i\n",
    "    result=total/len(args)\n",
    "    return result\n",
    "\n",
    "avr=avg(50,40,60,70,30)\n",
    "print(avr)"
   ]
  },
  {
   "cell_type": "code",
   "execution_count": 5,
   "metadata": {},
   "outputs": [
    {
     "name": "stdout",
     "output_type": "stream",
     "text": [
      "첫번째 숫자를 입력하세요 :3\n",
      "두번째 숫자를 입력하세요 :6\n",
      "두 수의 합은 9입니다.\n"
     ]
    }
   ],
   "source": [
    "#Q3.\n",
    "input1=int(input(\"첫번째 숫자를 입력하세요 :\"))\n",
    "input2=int(input(\"두번째 숫자를 입력하세요 :\"))\n",
    "\n",
    "total=input1+input2\n",
    "print(\"두 수의 합은 %d입니다.\"%total)"
   ]
  },
  {
   "cell_type": "code",
   "execution_count": 6,
   "metadata": {},
   "outputs": [
    {
     "data": {
      "text/plain": [
       "'Life is too short'"
      ]
     },
     "execution_count": 6,
     "metadata": {},
     "output_type": "execute_result"
    }
   ],
   "source": [
    "#Q5.\n",
    "f1=open(\"test.txt\",'w')\n",
    "f1.write(\"Life is too short\")\n",
    "\n",
    "f2=open(\"test.txt\",'r')\n",
    "f2.read()"
   ]
  },
  {
   "cell_type": "code",
   "execution_count": 7,
   "metadata": {},
   "outputs": [
    {
     "name": "stdout",
     "output_type": "stream",
     "text": [
      "Hi\n",
      "python\n",
      "\n"
     ]
    }
   ],
   "source": [
    "#Q6.\n",
    "f=open(\"test.txt\",'a')\n",
    "while 1:\n",
    "    data=input()\n",
    "    f.write(\"\\n\")\n",
    "    f.write(data)\n",
    "    if not data:break\n",
    "f.close()"
   ]
  },
  {
   "cell_type": "code",
   "execution_count": 8,
   "metadata": {},
   "outputs": [],
   "source": [
    "#Q7.\n",
    "f1=open(\"replace.txt\",'r')\n",
    "\n",
    "data=f1.read()\n",
    "data=data.replace(\"java\",\"python\")\n",
    "\n",
    "f2=open(\"replace.txt\",'w')\n",
    "f2.write(data)\n",
    "f1.close()\n",
    "f2.close()"
   ]
  }
 ],
 "metadata": {
  "kernelspec": {
   "display_name": "Python 3",
   "language": "python",
   "name": "python3"
  },
  "language_info": {
   "codemirror_mode": {
    "name": "ipython",
    "version": 3
   },
   "file_extension": ".py",
   "mimetype": "text/x-python",
   "name": "python",
   "nbconvert_exporter": "python",
   "pygments_lexer": "ipython3",
   "version": "3.7.3"
  }
 },
 "nbformat": 4,
 "nbformat_minor": 2
}
