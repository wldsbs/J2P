{
 "cells": [
  {
   "cell_type": "markdown",
   "metadata": {},
   "source": [
    "# 6. 라이브러리"
   ]
  },
  {
   "cell_type": "markdown",
   "metadata": {},
   "source": [
    "### sys\n",
    "파이썬 인터프리터가 제공하는 변수와 함수를 직접 제어할 수 있게하는 모듈  \n",
    "- 명령 행에서 인수 전달 : sys.argv  \n",
    "- 강제로 스크립트 종료하기 : sys.exit  \n",
    "- 자신이 만든 모듈 불러와 사용하기 : sys.path  \n"
   ]
  },
  {
   "cell_type": "markdown",
   "metadata": {},
   "source": [
    "### pickle\n",
    "객체의 형태를 그대로 유지하면서 파일에 저장하고 불러올 수 있게 하는 모듈"
   ]
  },
  {
   "cell_type": "code",
   "execution_count": 1,
   "metadata": {},
   "outputs": [],
   "source": [
    "#dump함수 사용하여 딕셔너리 객체인 data를 그대로 파일에 저장\n",
    "import pickle\n",
    "f=open(\"test.txt\",'wb')\n",
    "data={1:'python',2:'you need'}\n",
    "pickle.dump(data,f)\n",
    "f.close()"
   ]
  },
  {
   "cell_type": "code",
   "execution_count": 2,
   "metadata": {},
   "outputs": [
    {
     "name": "stdout",
     "output_type": "stream",
     "text": [
      "{1: 'python', 2: 'you need'}\n"
     ]
    }
   ],
   "source": [
    "#pickle.dump로 저장한 파일을 불러오기\n",
    "import pickle\n",
    "f=open(\"test.txt\",'rb')\n",
    "data=pickle.load(f)\n",
    "print(data)"
   ]
  },
  {
   "cell_type": "markdown",
   "metadata": {},
   "source": [
    "### os\n",
    "환경 변수나 디렉터리, 파일 등의 OS자원을 제어할 수 있게 해주는 모듈\n",
    "- 내 시스템의 환경 변수값을 알고 싶을 때 : os.environ\n",
    "- 디렉터리 위치 변경하기 : os.chdir\n",
    "- 디렉터리 위치 돌려받기 : os.getcwd\n",
    "- 시스템 명령어 호출하기 : os.system\n",
    "- 실행한 시스템 명령어의 결과값 돌려받기 : os.popen\n",
    "- 기타 유용한 os 관련 함수\n",
    "  - os.mkdir(디렉터리) : 디렉터리 생성\n",
    "  - os.rmdir(디렉터리) : 디렉터리가 비어있을 경우 디렉터리 삭제\n",
    "  - os.unlink(파일) : 파일 지우기\n",
    "  - os.rename(src,dst) : src라는 이름의 파일을 dst라는 이름으로 변경"
   ]
  },
  {
   "cell_type": "markdown",
   "metadata": {},
   "source": [
    "### shutil\n",
    "파일을 복사해주는 파이썬 모듈"
   ]
  },
  {
   "cell_type": "code",
   "execution_count": 3,
   "metadata": {},
   "outputs": [
    {
     "data": {
      "text/plain": [
       "'dst.txt'"
      ]
     },
     "execution_count": 3,
     "metadata": {},
     "output_type": "execute_result"
    }
   ],
   "source": [
    "import shutil\n",
    "shutil.copy(\"src.txt\",\"dst.txt\")"
   ]
  },
  {
   "cell_type": "markdown",
   "metadata": {},
   "source": [
    "### glob\n",
    "특정 디렉터리 안의 파일들을 읽어서 돌려주는 모듈  \n",
    "메타 문자를 사용하여 원하는 파일만 읽어들일 수도 있음"
   ]
  },
  {
   "cell_type": "markdown",
   "metadata": {},
   "source": [
    "### tempfile\n",
    "파일을 임시로 만들어서 사용할 때 유용한 모듈"
   ]
  },
  {
   "cell_type": "code",
   "execution_count": null,
   "metadata": {},
   "outputs": [],
   "source": [
    "#tempfile.mkstemp()\n",
    "#중복되지 않는 임시 파일의 이름을 무작위로 만들어서 돌려줌\n",
    "import tempfile\n",
    "filename=tempfile.mkstemp()\n",
    "filename"
   ]
  },
  {
   "cell_type": "code",
   "execution_count": null,
   "metadata": {},
   "outputs": [],
   "source": [
    "#tempfile.TemporaryFile()사용\n",
    "#임시 저장 공간으로 사용할 파일 객체를 돌려줌\n",
    "import tempfile\n",
    "f=tempfile.TemporaryFile()\n",
    "f.close()"
   ]
  },
  {
   "cell_type": "markdown",
   "metadata": {},
   "source": [
    "### time\n",
    "UTC를 사용하여 현재 시간을 실수 형태로 돌려주는 함수"
   ]
  },
  {
   "cell_type": "code",
   "execution_count": 4,
   "metadata": {},
   "outputs": [
    {
     "data": {
      "text/plain": [
       "1609512957.2823265"
      ]
     },
     "execution_count": 4,
     "metadata": {},
     "output_type": "execute_result"
    }
   ],
   "source": [
    "import time\n",
    "time.time()"
   ]
  },
  {
   "cell_type": "code",
   "execution_count": 5,
   "metadata": {},
   "outputs": [
    {
     "data": {
      "text/plain": [
       "time.struct_time(tm_year=2021, tm_mon=1, tm_mday=1, tm_hour=23, tm_min=55, tm_sec=58, tm_wday=4, tm_yday=1, tm_isdst=0)"
      ]
     },
     "execution_count": 5,
     "metadata": {},
     "output_type": "execute_result"
    }
   ],
   "source": [
    "#time.localtime\n",
    "#time.time()이 돌려준 값을 이용해 연도, 월, 일, 시, ...형태로 반환\n",
    "time.localtime(time.time())"
   ]
  },
  {
   "cell_type": "code",
   "execution_count": 6,
   "metadata": {},
   "outputs": [
    {
     "data": {
      "text/plain": [
       "'Fri Jan  1 23:56:00 2021'"
      ]
     },
     "execution_count": 6,
     "metadata": {},
     "output_type": "execute_result"
    }
   ],
   "source": [
    "#time.asctime\n",
    "#튜플 형태의 값을 인수로 받아 날짜, 시간을 보기 쉬운 형태로 반환\n",
    "time.asctime(time.localtime(time.time()))"
   ]
  },
  {
   "cell_type": "code",
   "execution_count": 7,
   "metadata": {},
   "outputs": [
    {
     "data": {
      "text/plain": [
       "'Fri Jan  1 23:56:03 2021'"
      ]
     },
     "execution_count": 7,
     "metadata": {},
     "output_type": "execute_result"
    }
   ],
   "source": [
    "#time.ctime\n",
    "#위 코드를 간단하게 .항상 현재 시간을 돌려줌\n",
    "time.ctime()"
   ]
  },
  {
   "cell_type": "markdown",
   "metadata": {},
   "source": [
    "#### 시간에 관계된 것을 표현하는 포맷 코드\n",
    "![포맷코드](fomatcode.JPG) "
   ]
  },
  {
   "cell_type": "markdown",
   "metadata": {},
   "source": [
    "### calendar\n",
    "파이썬에서 달력을 볼 수 있게 해주는 모듈"
   ]
  },
  {
   "cell_type": "markdown",
   "metadata": {},
   "source": [
    "### random\n",
    "난수를 발생시키는 모듈"
   ]
  },
  {
   "cell_type": "markdown",
   "metadata": {},
   "source": [
    "### webbrowser\n",
    "자신의 시스템에서 사용하는 기본 웹 브라우저를 자동으로 실행하는 모듈"
   ]
  }
 ],
 "metadata": {
  "kernelspec": {
   "display_name": "Python 3",
   "language": "python",
   "name": "python3"
  },
  "language_info": {
   "codemirror_mode": {
    "name": "ipython",
    "version": 3
   },
   "file_extension": ".py",
   "mimetype": "text/x-python",
   "name": "python",
   "nbconvert_exporter": "python",
   "pygments_lexer": "ipython3",
   "version": "3.7.3"
  }
 },
 "nbformat": 4,
 "nbformat_minor": 2
}
